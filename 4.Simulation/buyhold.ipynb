{
 "cells": [
  {
   "cell_type": "code",
   "execution_count": 3,
   "metadata": {},
   "outputs": [],
   "source": [
    "import glob\n",
    "import pandas as pd\n",
    "import numpy as np\n",
    "import pandas_datareader.data as web\n",
    "import datetime\n"
   ]
  },
  {
   "cell_type": "code",
   "execution_count": 4,
   "metadata": {},
   "outputs": [],
   "source": [
    "start = datetime.datetime(2010,1,1)#26 day before start year for make indicator\n",
    "end = datetime.datetime(2020,1,1)\n",
    "money = 10000"
   ]
  },
  {
   "cell_type": "code",
   "execution_count": 5,
   "metadata": {},
   "outputs": [],
   "source": [
    "#Stocklist\n",
    "stocklist =[['MMM',2016,2018],['AAPL',2016,2018],['AXP',2016,2018,],['CSCO',2016,2018],\n",
    "    ['DD',2016,2018],['V',2016,2018],['JNJ',2016,2018],['JPM',2016,2018],['GE',2015,2017],\n",
    "    ['MSFT',2017,2019],['KO',2015,2017],['BA',2015,2017],['BANPU.bk',2017,2019],['JNJ',2018,2020],\n",
    "    ['KKP.bk',2018,2020],['SCB.bk',2017,2019],['DIS',2016,2018],['IBM',2016,2018],['PG',2016,2018],\n",
    "    ['PEP',2017,2019],['JTS.bk',2017,2019],['GPS',2015,2017],['SWN',2015,2017],['thai.bk',2017,2019],\n",
    "    ['GME',2018,2020], ['JAS.bk',2017,2019], ['MAC',2017,2019],['TAP',2017,2019],\n",
    "    ['OXY',2018,2020],['SBUX',2007,2009]]"
   ]
  },
  {
   "cell_type": "code",
   "execution_count": 6,
   "metadata": {
    "scrolled": false
   },
   "outputs": [
    {
     "name": "stdout",
     "output_type": "stream",
     "text": [
      "['MMM', 2016, 2018] 56.24667822015503\n",
      "['AAPL', 2016, 2018] 60.77331587787431\n",
      "['AXP', 2016, 2018] 42.789350396849166\n",
      "['CSCO', 2016, 2018] 41.01619827774001\n",
      "['DD', 2016, 2018] 38.34498725274469\n",
      "['V', 2016, 2018] 47.027713934412205\n",
      "['JNJ', 2016, 2018] 36.02024879312666\n",
      "['JPM', 2016, 2018] 61.95669304621636\n",
      "['GE', 2015, 2017] 25.049465468369657\n",
      "['MSFT', 2017, 2019] 62.30424532269851\n",
      "['KO', 2015, 2017] -1.8000997495419058\n",
      "['BA', 2015, 2017] 19.77227095938201\n",
      "['BANPU.bk', 2017, 2019] -25.628138319391958\n",
      "['JNJ', 2018, 2020] 4.769086829997704\n",
      "['KKP.bk', 2018, 2020] -16.719242902208197\n",
      "['SCB.bk', 2017, 2019] -14.423076923076927\n",
      "['DIS', 2016, 2018] 2.3125240415228454\n",
      "['IBM', 2016, 2018] 11.480892030481215\n",
      "['PG', 2016, 2018] 15.70330313088586\n",
      "['PEP', 2017, 2019] 5.5709524568071656\n",
      "['JTS.bk', 2017, 2019] -35.71428165954779\n",
      "['GPS', 2015, 2017] -46.71099451719939\n",
      "['SWN', 2015, 2017] -60.351779656160055\n",
      "['thai.bk', 2017, 2019] -47.39130268926206\n",
      "['GME', 2018, 2020] -66.70317717691306\n",
      "['JAS.bk', 2017, 2019] -43.18471219961461\n",
      "['MAC', 2017, 2019] -39.02508209015304\n",
      "['TAP', 2017, 2019] -42.623619305985414\n",
      "['OXY', 2018, 2020] -44.29575937480631\n",
      "['SBUX', 2007, 2009] -73.16312045915753\n",
      "-0.8865486994584899\n"
     ]
    }
   ],
   "source": [
    "al = []\n",
    "recheck = []\n",
    "for stock in stocklist:\n",
    "    start = datetime.datetime(stock[1],1,1)\n",
    "    end   = datetime.datetime(stock[2],1,1)\n",
    "    df = web.DataReader(stock[0],'yahoo',start,end)\n",
    "    df['rccheck'] = np.log(df['Close'] / df['Close'].shift())\n",
    "    rcsum = df['rccheck'].sum()\n",
    "    pf = np.exp(np.log(df['Close'].iloc[-1] / df['Close'].iloc[0]))-1\n",
    "    al.append(pf*100)\n",
    "    print(stock,pf*100)\n",
    "print(sum(al)/len(stocklist))"
   ]
  },
  {
   "cell_type": "code",
   "execution_count": 9,
   "metadata": {},
   "outputs": [
    {
     "name": "stdout",
     "output_type": "stream",
     "text": [
      "['MMM', 2016, 2018] 56.25\n",
      "['AAPL', 2016, 2018] 60.77\n",
      "['AXP', 2016, 2018] 42.79\n",
      "['CSCO', 2016, 2018] 41.02\n",
      "['DD', 2016, 2018] 38.34\n",
      "['V', 2016, 2018] 47.03\n",
      "['JNJ', 2016, 2018] 36.02\n",
      "['JPM', 2016, 2018] 61.96\n",
      "['GE', 2015, 2017] 25.05\n",
      "['MSFT', 2017, 2019] 62.3\n",
      "['KO', 2015, 2017] -1.8\n",
      "['BA', 2015, 2017] 19.77\n",
      "['BANPU.bk', 2017, 2019] -25.63\n",
      "['JNJ', 2018, 2020] 4.77\n",
      "['KKP.bk', 2018, 2020] -16.72\n",
      "['SCB.bk', 2017, 2019] -14.42\n",
      "['DIS', 2016, 2018] 2.31\n",
      "['IBM', 2016, 2018] 11.48\n",
      "['PG', 2016, 2018] 15.7\n",
      "['PEP', 2017, 2019] 5.57\n",
      "['JTS.bk', 2017, 2019] -35.71\n",
      "['GPS', 2015, 2017] -46.71\n",
      "['SWN', 2015, 2017] -60.35\n",
      "['thai.bk', 2017, 2019] -47.39\n",
      "['GME', 2018, 2020] -66.7\n",
      "['JAS.bk', 2017, 2019] -43.18\n",
      "['MAC', 2017, 2019] -39.03\n",
      "['TAP', 2017, 2019] -42.62\n",
      "['OXY', 2018, 2020] -44.3\n",
      "['SBUX', 2007, 2009] -73.16\n",
      "-0.89\n"
     ]
    }
   ],
   "source": [
    "al=[]\n",
    "for stock in stocklist:\n",
    "    start = datetime.datetime(stock[1],1,1)\n",
    "    end   = datetime.datetime(stock[2],1,1)\n",
    "    df = web.DataReader(stock[0],'yahoo',start,end)\n",
    "    \n",
    "    df['Return'] = np.log(df['Close'] / df['Close'].shift(1))\n",
    "    sumReturn = df['Return'].sum()\n",
    "    \n",
    "    pl = np.exp(sumReturn) -1\n",
    "\n",
    "    al.append(round(pl*100,2))\n",
    "    \n",
    "    print(stock,round(pl*100,2))\n",
    "print(round(sum(al)/30,2))"
   ]
  },
  {
   "cell_type": "code",
   "execution_count": 10,
   "metadata": {},
   "outputs": [
    {
     "name": "stdout",
     "output_type": "stream",
     "text": [
      "['MMM', 2015, 2020]\n",
      "['AXP', 2015, 2020]\n",
      "['AAPL', 2015, 2020]\n",
      "['BA', 2015, 2020]\n",
      "['CAT', 2015, 2020]\n",
      "['CVX', 2015, 2020]\n",
      "['CSCO', 2015, 2020]\n",
      "['KO', 2015, 2020]\n",
      "['DIS', 2015, 2020]\n",
      "['DD', 2015, 2020]\n",
      "['XOM', 2015, 2020]\n",
      "['GE', 2015, 2020]\n",
      "['GS', 2015, 2020]\n",
      "['HD', 2015, 2020]\n",
      "['IBM', 2015, 2020]\n",
      "['INTC', 2015, 2020]\n",
      "['JNJ', 2015, 2020]\n",
      "['JPM', 2015, 2020]\n",
      "['MCD', 2015, 2020]\n",
      "['MRK', 2015, 2020]\n",
      "['MSFT', 2015, 2020]\n",
      "['NKE', 2015, 2020]\n",
      "['PFE', 2015, 2020]\n",
      "['PG', 2015, 2020]\n",
      "['TRV', 2015, 2020]\n",
      "['UNH', 2015, 2020]\n",
      "['VZ', 2015, 2020]\n",
      "['WMT', 2015, 2020]\n",
      "['UTC', 2015, 2020]\n",
      "['V', 2015, 2020]\n"
     ]
    }
   ],
   "source": [
    "stt = []\n",
    "year = []\n",
    "for i in stocklist:\n",
    "    print(i)\n",
    "    stt.append(i[0])\n",
    "    year.append([i[1],i[2]])"
   ]
  },
  {
   "cell_type": "code",
   "execution_count": 11,
   "metadata": {},
   "outputs": [],
   "source": [
    "data = pd.DataFrame([])\n",
    "data['Stock'] = stt\n",
    "data['year'] = year\n",
    "data['%Profit/Loss'] = al\n",
    "data.to_csv('BAH.csv',index = False)"
   ]
  }
 ],
 "metadata": {
  "kernelspec": {
   "display_name": "Python 3",
   "language": "python",
   "name": "python3"
  },
  "language_info": {
   "codemirror_mode": {
    "name": "ipython",
    "version": 3
   },
   "file_extension": ".py",
   "mimetype": "text/x-python",
   "name": "python",
   "nbconvert_exporter": "python",
   "pygments_lexer": "ipython3",
   "version": "3.7.7"
  }
 },
 "nbformat": 4,
 "nbformat_minor": 2
}
