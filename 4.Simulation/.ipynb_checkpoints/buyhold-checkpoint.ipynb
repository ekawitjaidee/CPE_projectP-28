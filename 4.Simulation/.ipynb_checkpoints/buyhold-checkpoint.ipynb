{
 "cells": [
  {
   "cell_type": "code",
   "execution_count": 3,
   "metadata": {},
   "outputs": [],
   "source": [
    "import glob\n",
    "import pandas as pd\n",
    "import numpy as np\n",
    "import pandas_datareader.data as web\n",
    "import datetime\n"
   ]
  },
  {
   "cell_type": "code",
   "execution_count": 4,
   "metadata": {},
   "outputs": [],
   "source": [
    "start = datetime.datetime(2010,1,1)#26 day before start year for make indicator\n",
    "end = datetime.datetime(2020,1,1)\n",
    "money = 10000"
   ]
  },
  {
   "cell_type": "code",
   "execution_count": 5,
   "metadata": {},
   "outputs": [],
   "source": [
    "#Stocklist\n",
    "stocklist =[['MMM',2016,2018],['AAPL',2016,2018],['AXP',2016,2018,],['CSCO',2016,2018],\n",
    "    ['DD',2016,2018],['V',2016,2018],['JNJ',2016,2018],['JPM',2016,2018],['GE',2015,2017],\n",
    "    ['MSFT',2017,2019],['KO',2015,2017],['BA',2015,2017],['BANPU.bk',2017,2019],['JNJ',2018,2020],\n",
    "    ['KKP.bk',2018,2020],['SCB.bk',2017,2019],['DIS',2016,2018],['IBM',2016,2018],['PG',2016,2018],\n",
    "    ['PEP',2017,2019],['JTS.bk',2017,2019],['GPS',2015,2017],['SWN',2015,2017],['thai.bk',2017,2019],\n",
    "    ['GME',2018,2020], ['JAS.bk',2017,2019], ['MAC',2017,2019],['TAP',2017,2019],\n",
    "    ['OXY',2018,2020],['SBUX',2007,2009]]"
   ]
  },
  {
   "cell_type": "code",
   "execution_count": 6,
   "metadata": {
    "scrolled": false
   },
   "outputs": [
    {
     "name": "stdout",
     "output_type": "stream",
     "text": [
      "['MMM', 2016, 2018] 56.24667822015503\n",
      "['AAPL', 2016, 2018] 60.77331587787431\n",
      "['AXP', 2016, 2018] 42.789350396849166\n",
      "['CSCO', 2016, 2018] 41.01619827774001\n",
      "['DD', 2016, 2018] 38.34498725274469\n",
      "['V', 2016, 2018] 47.027713934412205\n",
      "['JNJ', 2016, 2018] 36.02024879312666\n",
      "['JPM', 2016, 2018] 61.95669304621636\n",
      "['GE', 2015, 2017] 25.049465468369657\n",
      "['MSFT', 2017, 2019] 62.30424532269851\n",
      "['KO', 2015, 2017] -1.8000997495419058\n",
      "['BA', 2015, 2017] 19.77227095938201\n",
      "['BANPU.bk', 2017, 2019] -25.628138319391958\n",
      "['JNJ', 2018, 2020] 4.769086829997704\n",
      "['KKP.bk', 2018, 2020] -16.719242902208197\n",
      "['SCB.bk', 2017, 2019] -14.423076923076927\n",
      "['DIS', 2016, 2018] 2.3125240415228454\n",
      "['IBM', 2016, 2018] 11.480892030481215\n",
      "['PG', 2016, 2018] 15.70330313088586\n",
      "['PEP', 2017, 2019] 5.5709524568071656\n",
      "['JTS.bk', 2017, 2019] -35.71428165954779\n",
      "['GPS', 2015, 2017] -46.71099451719939\n",
      "['SWN', 2015, 2017] -60.351779656160055\n",
      "['thai.bk', 2017, 2019] -47.39130268926206\n",
      "['GME', 2018, 2020] -66.70317717691306\n",
      "['JAS.bk', 2017, 2019] -43.18471219961461\n",
      "['MAC', 2017, 2019] -39.02508209015304\n",
      "['TAP', 2017, 2019] -42.623619305985414\n",
      "['OXY', 2018, 2020] -44.29575937480631\n",
      "['SBUX', 2007, 2009] -73.16312045915753\n",
      "-0.8865486994584899\n"
     ]
    }
   ],
   "source": [
    "al = []\n",
    "recheck = []\n",
    "for stock in stocklist:\n",
    "    start = datetime.datetime(stock[1],1,1)\n",
    "    end   = datetime.datetime(stock[2],1,1)\n",
    "    df = web.DataReader(stock[0],'yahoo',start,end)\n",
    "#     df = df[30:]\n",
    "    df['rccheck'] = np.log(df['Close'] / df['Close'].shift())\n",
    "    rcsum = df['rccheck'].sum()\n",
    "    \n",
    "    pf = np.exp(np.log(df['Close'].iloc[-1] / df['Close'].iloc[0]))-1\n",
    "\n",
    "    al.append(pf*100)\n",
    "#     print((np.exp(rcsum)-1)*100)\n",
    "    print(stock,pf*100)\n",
    "print(sum(al)/len(stocklist))"
   ]
  },
  {
   "cell_type": "code",
   "execution_count": 7,
   "metadata": {},
   "outputs": [
    {
     "name": "stdout",
     "output_type": "stream",
     "text": [
      "[56.24667822015503, 60.77331587787431, 42.789350396849166, 41.01619827774001, 38.34498725274469, 47.027713934412205, 36.02024879312666, 61.95669304621636, 25.049465468369657, 62.30424532269851, -1.8000997495419058, 19.77227095938201, -25.628138319391958, 4.769086829997704, -16.719242902208197, -14.423076923076927, 2.3125240415228454, 11.480892030481215, 15.70330313088586, 5.5709524568071656, -35.71428165954779, -46.71099451719939, -60.351779656160055, -47.39130268926206, -66.70317717691306, -43.18471219961461, -39.02508209015304, -42.623619305985414, -44.29575937480631, -73.16312045915753]\n"
     ]
    }
   ],
   "source": [
    "print(al)"
   ]
  },
  {
   "cell_type": "code",
   "execution_count": 6,
   "metadata": {},
   "outputs": [
    {
     "data": {
      "text/plain": [
       "186.6513884799058"
      ]
     },
     "execution_count": 6,
     "metadata": {},
     "output_type": "execute_result"
    }
   ],
   "source": [
    "pf = np.exp(np.log(df['Close'].iloc[-1] / df['Close'].iloc[0]))-1\n",
    "pf*100"
   ]
  },
  {
   "cell_type": "code",
   "execution_count": null,
   "metadata": {},
   "outputs": [],
   "source": []
  },
  {
   "cell_type": "code",
   "execution_count": 7,
   "metadata": {},
   "outputs": [],
   "source": [
    "aa=[]\n",
    "for i in stocklist:\n",
    "    aa.append([i[0],2018,2019])"
   ]
  },
  {
   "cell_type": "code",
   "execution_count": 8,
   "metadata": {},
   "outputs": [
    {
     "data": {
      "text/html": [
       "<div>\n",
       "<style scoped>\n",
       "    .dataframe tbody tr th:only-of-type {\n",
       "        vertical-align: middle;\n",
       "    }\n",
       "\n",
       "    .dataframe tbody tr th {\n",
       "        vertical-align: top;\n",
       "    }\n",
       "\n",
       "    .dataframe thead th {\n",
       "        text-align: right;\n",
       "    }\n",
       "</style>\n",
       "<table border=\"1\" class=\"dataframe\">\n",
       "  <thead>\n",
       "    <tr style=\"text-align: right;\">\n",
       "      <th></th>\n",
       "      <th>High</th>\n",
       "      <th>Low</th>\n",
       "      <th>Open</th>\n",
       "      <th>Close</th>\n",
       "      <th>Volume</th>\n",
       "      <th>Adj Close</th>\n",
       "      <th>rccheck</th>\n",
       "    </tr>\n",
       "    <tr>\n",
       "      <th>Date</th>\n",
       "      <th></th>\n",
       "      <th></th>\n",
       "      <th></th>\n",
       "      <th></th>\n",
       "      <th></th>\n",
       "      <th></th>\n",
       "      <th></th>\n",
       "    </tr>\n",
       "  </thead>\n",
       "  <tbody>\n",
       "    <tr>\n",
       "      <th>2014-12-31</th>\n",
       "      <td>66.812500</td>\n",
       "      <td>65.544998</td>\n",
       "      <td>66.370003</td>\n",
       "      <td>65.550003</td>\n",
       "      <td>5904800.0</td>\n",
       "      <td>62.703018</td>\n",
       "      <td>NaN</td>\n",
       "    </tr>\n",
       "    <tr>\n",
       "      <th>2015-01-02</th>\n",
       "      <td>66.687500</td>\n",
       "      <td>65.622498</td>\n",
       "      <td>65.845001</td>\n",
       "      <td>66.254997</td>\n",
       "      <td>8389600.0</td>\n",
       "      <td>63.377399</td>\n",
       "      <td>0.010698</td>\n",
       "    </tr>\n",
       "    <tr>\n",
       "      <th>2015-01-05</th>\n",
       "      <td>65.875000</td>\n",
       "      <td>64.717499</td>\n",
       "      <td>65.872498</td>\n",
       "      <td>64.792503</td>\n",
       "      <td>12751200.0</td>\n",
       "      <td>61.978432</td>\n",
       "      <td>-0.022321</td>\n",
       "    </tr>\n",
       "    <tr>\n",
       "      <th>2015-01-06</th>\n",
       "      <td>65.195000</td>\n",
       "      <td>63.715000</td>\n",
       "      <td>64.947502</td>\n",
       "      <td>64.375000</td>\n",
       "      <td>11070000.0</td>\n",
       "      <td>61.579056</td>\n",
       "      <td>-0.006465</td>\n",
       "    </tr>\n",
       "    <tr>\n",
       "      <th>2015-01-07</th>\n",
       "      <td>65.285004</td>\n",
       "      <td>64.362503</td>\n",
       "      <td>64.610001</td>\n",
       "      <td>65.237503</td>\n",
       "      <td>9346800.0</td>\n",
       "      <td>62.404102</td>\n",
       "      <td>0.013309</td>\n",
       "    </tr>\n",
       "    <tr>\n",
       "      <th>...</th>\n",
       "      <td>...</td>\n",
       "      <td>...</td>\n",
       "      <td>...</td>\n",
       "      <td>...</td>\n",
       "      <td>...</td>\n",
       "      <td>...</td>\n",
       "      <td>...</td>\n",
       "    </tr>\n",
       "    <tr>\n",
       "      <th>2019-12-24</th>\n",
       "      <td>188.020004</td>\n",
       "      <td>186.910004</td>\n",
       "      <td>187.100006</td>\n",
       "      <td>187.570007</td>\n",
       "      <td>2420900.0</td>\n",
       "      <td>186.133530</td>\n",
       "      <td>0.002616</td>\n",
       "    </tr>\n",
       "    <tr>\n",
       "      <th>2019-12-26</th>\n",
       "      <td>189.179993</td>\n",
       "      <td>187.699997</td>\n",
       "      <td>187.889999</td>\n",
       "      <td>189.160004</td>\n",
       "      <td>5237000.0</td>\n",
       "      <td>187.711380</td>\n",
       "      <td>0.008441</td>\n",
       "    </tr>\n",
       "    <tr>\n",
       "      <th>2019-12-27</th>\n",
       "      <td>189.889999</td>\n",
       "      <td>188.470001</td>\n",
       "      <td>189.740005</td>\n",
       "      <td>189.389999</td>\n",
       "      <td>5448600.0</td>\n",
       "      <td>187.939590</td>\n",
       "      <td>0.001215</td>\n",
       "    </tr>\n",
       "    <tr>\n",
       "      <th>2019-12-30</th>\n",
       "      <td>189.479996</td>\n",
       "      <td>187.119995</td>\n",
       "      <td>189.309998</td>\n",
       "      <td>187.830002</td>\n",
       "      <td>4833600.0</td>\n",
       "      <td>186.391541</td>\n",
       "      <td>-0.008271</td>\n",
       "    </tr>\n",
       "    <tr>\n",
       "      <th>2019-12-31</th>\n",
       "      <td>188.000000</td>\n",
       "      <td>186.539993</td>\n",
       "      <td>187.059998</td>\n",
       "      <td>187.899994</td>\n",
       "      <td>5273000.0</td>\n",
       "      <td>186.461014</td>\n",
       "      <td>0.000373</td>\n",
       "    </tr>\n",
       "  </tbody>\n",
       "</table>\n",
       "<p>1259 rows × 7 columns</p>\n",
       "</div>"
      ],
      "text/plain": [
       "                  High         Low        Open       Close      Volume  \\\n",
       "Date                                                                     \n",
       "2014-12-31   66.812500   65.544998   66.370003   65.550003   5904800.0   \n",
       "2015-01-02   66.687500   65.622498   65.845001   66.254997   8389600.0   \n",
       "2015-01-05   65.875000   64.717499   65.872498   64.792503  12751200.0   \n",
       "2015-01-06   65.195000   63.715000   64.947502   64.375000  11070000.0   \n",
       "2015-01-07   65.285004   64.362503   64.610001   65.237503   9346800.0   \n",
       "...                ...         ...         ...         ...         ...   \n",
       "2019-12-24  188.020004  186.910004  187.100006  187.570007   2420900.0   \n",
       "2019-12-26  189.179993  187.699997  187.889999  189.160004   5237000.0   \n",
       "2019-12-27  189.889999  188.470001  189.740005  189.389999   5448600.0   \n",
       "2019-12-30  189.479996  187.119995  189.309998  187.830002   4833600.0   \n",
       "2019-12-31  188.000000  186.539993  187.059998  187.899994   5273000.0   \n",
       "\n",
       "             Adj Close   rccheck  \n",
       "Date                              \n",
       "2014-12-31   62.703018       NaN  \n",
       "2015-01-02   63.377399  0.010698  \n",
       "2015-01-05   61.978432 -0.022321  \n",
       "2015-01-06   61.579056 -0.006465  \n",
       "2015-01-07   62.404102  0.013309  \n",
       "...                ...       ...  \n",
       "2019-12-24  186.133530  0.002616  \n",
       "2019-12-26  187.711380  0.008441  \n",
       "2019-12-27  187.939590  0.001215  \n",
       "2019-12-30  186.391541 -0.008271  \n",
       "2019-12-31  186.461014  0.000373  \n",
       "\n",
       "[1259 rows x 7 columns]"
      ]
     },
     "execution_count": 8,
     "metadata": {},
     "output_type": "execute_result"
    }
   ],
   "source": [
    "df"
   ]
  },
  {
   "cell_type": "code",
   "execution_count": 9,
   "metadata": {},
   "outputs": [
    {
     "name": "stdout",
     "output_type": "stream",
     "text": [
      "['MMM', 2015, 2020] 7.36\n",
      "['AXP', 2015, 2020] 33.8\n",
      "['AAPL', 2015, 2020] 166.04\n",
      "['BA', 2015, 2020] 150.62\n",
      "['CAT', 2015, 2020] 61.35\n",
      "['CVX', 2015, 2020] 7.43\n",
      "['CSCO', 2015, 2020] 72.39\n",
      "['KO', 2015, 2020] 31.1\n",
      "['DIS', 2015, 2020] 53.55\n",
      "['DD', 2015, 2020] -1.1\n",
      "['XOM', 2015, 2020] -24.52\n",
      "['GE', 2015, 2020] -54.07\n",
      "['GS', 2015, 2020] 18.62\n",
      "['HD', 2015, 2020] 108.04\n",
      "['IBM', 2015, 2020] -16.45\n",
      "['INTC', 2015, 2020] 64.92\n",
      "['JNJ', 2015, 2020] 39.5\n",
      "['JPM', 2015, 2020] 122.75\n",
      "['MCD', 2015, 2020] 110.9\n",
      "['MRK', 2015, 2020] 60.15\n",
      "['MSFT', 2015, 2020] 239.5\n",
      "['NKE', 2015, 2020] 110.73\n",
      "['PFE', 2015, 2020] 25.78\n",
      "['PG', 2015, 2020] 37.12\n",
      "['TRV', 2015, 2020] 29.38\n",
      "['UNH', 2015, 2020] 190.81\n",
      "['VZ', 2015, 2020] 31.25\n",
      "['WMT', 2015, 2020] 38.38\n",
      "['UTC', 2015, 2020] 0.0\n",
      "['V', 2015, 2020] 186.65\n",
      "63.4\n"
     ]
    }
   ],
   "source": [
    "al=[]\n",
    "for stock in stocklist:\n",
    "    start = datetime.datetime(stock[1],1,1)\n",
    "    end   = datetime.datetime(stock[2],1,1)\n",
    "    df = web.DataReader(stock[0],'yahoo',start,end)\n",
    "    \n",
    "    df['Return'] = np.log(df['Close'] / df['Close'].shift(1))\n",
    "    sumReturn = df['Return'].sum()\n",
    "    \n",
    "    pl = np.exp(sumReturn) -1\n",
    "\n",
    "    al.append(round(pl*100,2))\n",
    "    \n",
    "    print(stock,round(pl*100,2))\n",
    "print(round(sum(al)/30,2))"
   ]
  },
  {
   "cell_type": "code",
   "execution_count": 10,
   "metadata": {},
   "outputs": [
    {
     "name": "stdout",
     "output_type": "stream",
     "text": [
      "['MMM', 2015, 2020]\n",
      "['AXP', 2015, 2020]\n",
      "['AAPL', 2015, 2020]\n",
      "['BA', 2015, 2020]\n",
      "['CAT', 2015, 2020]\n",
      "['CVX', 2015, 2020]\n",
      "['CSCO', 2015, 2020]\n",
      "['KO', 2015, 2020]\n",
      "['DIS', 2015, 2020]\n",
      "['DD', 2015, 2020]\n",
      "['XOM', 2015, 2020]\n",
      "['GE', 2015, 2020]\n",
      "['GS', 2015, 2020]\n",
      "['HD', 2015, 2020]\n",
      "['IBM', 2015, 2020]\n",
      "['INTC', 2015, 2020]\n",
      "['JNJ', 2015, 2020]\n",
      "['JPM', 2015, 2020]\n",
      "['MCD', 2015, 2020]\n",
      "['MRK', 2015, 2020]\n",
      "['MSFT', 2015, 2020]\n",
      "['NKE', 2015, 2020]\n",
      "['PFE', 2015, 2020]\n",
      "['PG', 2015, 2020]\n",
      "['TRV', 2015, 2020]\n",
      "['UNH', 2015, 2020]\n",
      "['VZ', 2015, 2020]\n",
      "['WMT', 2015, 2020]\n",
      "['UTC', 2015, 2020]\n",
      "['V', 2015, 2020]\n"
     ]
    }
   ],
   "source": [
    "stt = []\n",
    "year = []\n",
    "for i in stocklist:\n",
    "    print(i)\n",
    "    stt.append(i[0])\n",
    "    year.append([i[1],i[2]])"
   ]
  },
  {
   "cell_type": "code",
   "execution_count": 11,
   "metadata": {},
   "outputs": [],
   "source": [
    "data = pd.DataFrame([])\n",
    "data['Stock'] = stt\n",
    "data['year'] = year\n",
    "data['%Profit/Loss'] = al\n",
    "data.to_csv('BAH.csv',index = False)"
   ]
  },
  {
   "cell_type": "code",
   "execution_count": 12,
   "metadata": {},
   "outputs": [],
   "source": [
    "# df['Return'] = np.log(df['Close'] / df['Close'].shift(1))"
   ]
  },
  {
   "cell_type": "code",
   "execution_count": 13,
   "metadata": {},
   "outputs": [],
   "source": [
    "# p = df['Return'].sum()\n",
    "# r = (np.exp(p) -1)*100\n"
   ]
  },
  {
   "cell_type": "code",
   "execution_count": null,
   "metadata": {},
   "outputs": [],
   "source": []
  },
  {
   "cell_type": "code",
   "execution_count": null,
   "metadata": {},
   "outputs": [],
   "source": []
  }
 ],
 "metadata": {
  "kernelspec": {
   "display_name": "Python 3",
   "language": "python",
   "name": "python3"
  },
  "language_info": {
   "codemirror_mode": {
    "name": "ipython",
    "version": 3
   },
   "file_extension": ".py",
   "mimetype": "text/x-python",
   "name": "python",
   "nbconvert_exporter": "python",
   "pygments_lexer": "ipython3",
   "version": "3.7.7"
  }
 },
 "nbformat": 4,
 "nbformat_minor": 2
}
