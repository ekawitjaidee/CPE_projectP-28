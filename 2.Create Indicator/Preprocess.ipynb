{
 "cells": [
  {
   "cell_type": "code",
   "execution_count": 1,
   "metadata": {},
   "outputs": [],
   "source": [
    "import random\n",
    "import glob\n",
    "import numpy as np\n",
    "import pandas as pd\n",
    "import glob as glb\n",
    "import numpy as np\n",
    "from collections import Counter\n",
    "from Indicator import Indicator\n",
    "from GA import GA\n",
    "\n",
    "def norm(df,col_name):# this will get columnname + _n\n",
    "    #Normalize data each colunm in to range -1 to 1\n",
    "    df[col_name+'_n'] = 2*(df[col_name]-df[col_name].min())/(df[col_name].max()-df[col_name].min())-1    \n",
    "    return df"
   ]
  },
  {
   "cell_type": "code",
   "execution_count": 2,
   "metadata": {},
   "outputs": [
    {
     "data": {
      "text/plain": [
       "75"
      ]
     },
     "execution_count": 2,
     "metadata": {},
     "output_type": "execute_result"
    }
   ],
   "source": [
    "datalist = [f for f in glb.glob('GT/*.csv')]\n",
    "len(datalist)"
   ]
  },
  {
   "cell_type": "code",
   "execution_count": 6,
   "metadata": {},
   "outputs": [
    {
     "name": "stderr",
     "output_type": "stream",
     "text": [
      "C:\\Users\\Lenovo\\anaconda3\\lib\\site-packages\\ipykernel_launcher.py:45: SettingWithCopyWarning: \n",
      "A value is trying to be set on a copy of a slice from a DataFrame\n",
      "\n",
      "See the caveats in the documentation: https://pandas.pydata.org/pandas-docs/stable/user_guide/indexing.html#returning-a-view-versus-a-copy\n",
      "C:\\Users\\Lenovo\\anaconda3\\lib\\site-packages\\pandas\\core\\indexing.py:671: SettingWithCopyWarning: \n",
      "A value is trying to be set on a copy of a slice from a DataFrame\n",
      "\n",
      "See the caveats in the documentation: https://pandas.pydata.org/pandas-docs/stable/user_guide/indexing.html#returning-a-view-versus-a-copy\n",
      "  self._setitem_with_indexer(indexer, value)\n",
      "C:\\Users\\Lenovo\\anaconda3\\lib\\site-packages\\ipykernel_launcher.py:50: SettingWithCopyWarning: \n",
      "A value is trying to be set on a copy of a slice from a DataFrame\n",
      "\n",
      "See the caveats in the documentation: https://pandas.pydata.org/pandas-docs/stable/user_guide/indexing.html#returning-a-view-versus-a-copy\n",
      "C:\\Users\\Lenovo\\anaconda3\\lib\\site-packages\\ipykernel_launcher.py:47: SettingWithCopyWarning: \n",
      "A value is trying to be set on a copy of a slice from a DataFrame\n",
      "\n",
      "See the caveats in the documentation: https://pandas.pydata.org/pandas-docs/stable/user_guide/indexing.html#returning-a-view-versus-a-copy\n",
      "C:\\Users\\Lenovo\\anaconda3\\lib\\site-packages\\ipykernel_launcher.py:43: SettingWithCopyWarning: \n",
      "A value is trying to be set on a copy of a slice from a DataFrame\n",
      "\n",
      "See the caveats in the documentation: https://pandas.pydata.org/pandas-docs/stable/user_guide/indexing.html#returning-a-view-versus-a-copy\n",
      "C:\\Users\\Lenovo\\anaconda3\\lib\\site-packages\\ipykernel_launcher.py:38: SettingWithCopyWarning: \n",
      "A value is trying to be set on a copy of a slice from a DataFrame\n",
      "\n",
      "See the caveats in the documentation: https://pandas.pydata.org/pandas-docs/stable/user_guide/indexing.html#returning-a-view-versus-a-copy\n",
      "C:\\Users\\Lenovo\\anaconda3\\lib\\site-packages\\ipykernel_launcher.py:40: SettingWithCopyWarning: \n",
      "A value is trying to be set on a copy of a slice from a DataFrame\n",
      "\n",
      "See the caveats in the documentation: https://pandas.pydata.org/pandas-docs/stable/user_guide/indexing.html#returning-a-view-versus-a-copy\n"
     ]
    }
   ],
   "source": [
    "for name in datalist:\n",
    "    df = pd.read_csv(name)\n",
    "    df = Indicator().MACD(df,49,57,53)\n",
    "    df = Indicator().DMI(df,48)\n",
    "    df = Indicator().RSI(df)\n",
    "    df = Indicator().WILLIANSR(df)\n",
    "    df = Indicator().STOCHASTIC(df)\n",
    "    df['STOCH'] = df['%K']-df['%D']\n",
    "    df['MACD-SL'] = df['MACD'] - df['SIGNAL LINE']\n",
    "    df['DMI'] = df['plusDI'] - df['minusDI']\n",
    "    \n",
    "    #MACD\n",
    "    df = norm(df,'MACD')\n",
    "    df = norm(df,'SIGNAL LINE')\n",
    "    df = norm(df,'MACD-SL')\n",
    "    #DMI\n",
    "    df = norm(df,'plusDI')\n",
    "    df = norm(df,'minusDI')\n",
    "    df = norm(df,'DMI')\n",
    "    #STOCHASTIC\n",
    "    df = norm(df,'STOCH')\n",
    "    df = norm(df,'%K')\n",
    "    df = norm(df,'%D')\n",
    "    \n",
    "    df = norm(df,'RSI')\n",
    "    df = norm(df,'%R')\n",
    "    \n",
    "    df['Trend GT'] = 0\n",
    "    for i,r in df.iterrows():\n",
    "        if r['Signal'] == 'buy':\n",
    "            trend = 'up'\n",
    "            break\n",
    "        elif r['Signal'] == 'sell':\n",
    "            trend = 'down'\n",
    "            break\n",
    "    for index,row in df.iterrows():\n",
    "        if trend == 'down' and row['Signal'] == 'wait or hold':\n",
    "            df['Trend GT'][index] = 'down'\n",
    "        elif trend == 'down' and row['Signal'] == 'buy':\n",
    "            df['Trend GT'][index] = 'up'\n",
    "            trend='up'\n",
    "        elif trend == 'down' and row['Signal'] == 'sell':\n",
    "            df['Trend GT'][index] = 'down'\n",
    "        elif trend == 'up' and row['Signal'] == 'wait or hold':\n",
    "            df['Trend GT'][index] = 'up'\n",
    "        elif trend == 'up' and row['Signal'] == 'sell':\n",
    "            df['Trend GT'][index] = 'down'\n",
    "            trend = 'down'\n",
    "        elif trend == 'up' and row['Signal'] == 'buy':\n",
    "            df['Trend GT'][index] = 'up'\n",
    "\n",
    "    df = df[60:]\n",
    "    df.to_csv('Dataset Selected/'+name[3:-4]+'.csv',index=False)"
   ]
  },
  {
   "cell_type": "code",
   "execution_count": null,
   "metadata": {},
   "outputs": [],
   "source": []
  }
 ],
 "metadata": {
  "kernelspec": {
   "display_name": "Python 3",
   "language": "python",
   "name": "python3"
  },
  "language_info": {
   "codemirror_mode": {
    "name": "ipython",
    "version": 3
   },
   "file_extension": ".py",
   "mimetype": "text/x-python",
   "name": "python",
   "nbconvert_exporter": "python",
   "pygments_lexer": "ipython3",
   "version": "3.7.7"
  }
 },
 "nbformat": 4,
 "nbformat_minor": 4
}
