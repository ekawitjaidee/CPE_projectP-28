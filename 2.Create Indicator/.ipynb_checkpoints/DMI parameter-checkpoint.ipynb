{
 "cells": [
  {
   "cell_type": "code",
   "execution_count": 28,
   "metadata": {},
   "outputs": [],
   "source": [
    "import random\n",
    "import glob\n",
    "import numpy as np\n",
    "import pandas as pd\n",
    "import glob as glb\n",
    "import numpy as np\n",
    "from collections import Counter\n",
    "from Indicator import Indicator\n",
    "from GA import GA\n",
    "\n",
    "def norm(df,col_name):# this will get columnname + _n\n",
    "    #Normalize data each colunm in to range -1 to 1\n",
    "    df[col_name+'_n'] = 2*(df[col_name]-df[col_name].min())/(df[col_name].max()-df[col_name].min())-1    \n",
    "    return df"
   ]
  },
  {
   "cell_type": "code",
   "execution_count": 4,
   "metadata": {},
   "outputs": [
    {
     "data": {
      "text/plain": [
       "75"
      ]
     },
     "execution_count": 4,
     "metadata": {},
     "output_type": "execute_result"
    }
   ],
   "source": [
    "#Read Name Data\n",
    "datalist = [f for f in glb.glob('GT/*.csv')]\n",
    "len(datalist)"
   ]
  },
  {
   "cell_type": "markdown",
   "metadata": {},
   "source": [
    "# Find Best Parameter get Maximum Profit of DMI Indicator"
   ]
  },
  {
   "cell_type": "code",
   "execution_count": 23,
   "metadata": {},
   "outputs": [
    {
     "name": "stdout",
     "output_type": "stream",
     "text": [
      "Stock:  GT\\A(2003,2015).csv  In Progress ... DONE!!\n",
      "Stock:  GT\\AAL(2006,2015).csv  In Progress ... DONE!!\n",
      "Stock:  GT\\AAP(2005,2015).csv  In Progress ... DONE!!\n",
      "Stock:  GT\\AAPL(2005,2015).csv  In Progress ... DONE!!\n",
      "Stock:  GT\\ABC(2003,2015).csv  In Progress ... DONE!!\n",
      "Stock:  GT\\ABMD(2005,2015).csv  In Progress ... DONE!!\n",
      "Stock:  GT\\ABT(2005,2015).csv  In Progress ... DONE!!\n",
      "Stock:  GT\\ACN(2005,2015).csv  In Progress ... DONE!!\n",
      "Stock:  GT\\ADBE(2005,2015).csv  In Progress ... DONE!!\n",
      "Stock:  GT\\ADI(2005,2015).csv  In Progress ... DONE!!\n",
      "Stock:  GT\\ADVANC.bk(2005,2015).csv  In Progress ... DONE!!\n",
      "Stock:  GT\\AEE(2005,2015).csv  In Progress ... DONE!!\n",
      "Stock:  GT\\AES(2005,2015).csv  In Progress ... DONE!!\n",
      "Stock:  GT\\AFL(2004,2015).csv  In Progress ... DONE!!\n",
      "Stock:  GT\\AKAM(2005,2015).csv  In Progress ... DONE!!\n",
      "Stock:  GT\\ALB(2003,2015).csv  In Progress ... DONE!!\n",
      "Stock:  GT\\ALK(2005,2015).csv  In Progress ... DONE!!\n",
      "Stock:  GT\\ALL(2005,2015).csv  In Progress ... DONE!!\n",
      "Stock:  GT\\ALXN(2005,2015).csv  In Progress ... DONE!!\n",
      "Stock:  GT\\AMAT(2005,2015).csv  In Progress ... DONE!!\n",
      "Stock:  GT\\AMD(2005,2015).csv  In Progress ... DONE!!\n",
      "Stock:  GT\\AMGN(2005,2015).csv  In Progress ... DONE!!\n",
      "Stock:  GT\\AMZN(2004,2015).csv  In Progress ... DONE!!\n",
      "Stock:  GT\\AON(2005,2015).csv  In Progress ... DONE!!\n",
      "Stock:  GT\\AOS(2002,2015).csv  In Progress ... DONE!!\n",
      "Stock:  GT\\AOT.bk(2005,2015).csv  In Progress ... DONE!!\n",
      "Stock:  GT\\APD(2005,2015).csv  In Progress ... DONE!!\n",
      "Stock:  GT\\ARE(2005,2015).csv  In Progress ... DONE!!\n",
      "Stock:  GT\\ATO(2005,2015).csv  In Progress ... DONE!!\n",
      "Stock:  GT\\ATVI(2005,2015).csv  In Progress ... DONE!!\n",
      "Stock:  GT\\AVB(2003,2015).csv  In Progress ... DONE!!\n",
      "Stock:  GT\\AZO(2005,2016).csv  In Progress ... DONE!!\n",
      "Stock:  GT\\BBL.bk(2003,2016).csv  In Progress ... DONE!!\n",
      "Stock:  GT\\BDMS.bk(2005,2015).csv  In Progress ... DONE!!\n",
      "Stock:  GT\\BH.bk(2005,2015).csv  In Progress ... DONE!!\n",
      "Stock:  GT\\BKR(2004,2015).csv  In Progress ... DONE!!\n",
      "Stock:  GT\\BLL(2004,2015).csv  In Progress ... DONE!!\n",
      "Stock:  GT\\CPALL.bk(2005,2015).csv  In Progress ... DONE!!\n",
      "Stock:  GT\\CPF.bk(2005,2015).csv  In Progress ... DONE!!\n",
      "Stock:  GT\\CPN.bk(2005,2015).csv  In Progress ... DONE!!\n",
      "Stock:  GT\\EA(2005,2015).csv  In Progress ... DONE!!\n",
      "Stock:  GT\\EBAY(2005,2016).csv  In Progress ... DONE!!\n",
      "Stock:  GT\\EGCO.bk(2008,2015).csv  In Progress ... DONE!!\n",
      "Stock:  GT\\EMR(2003,2015).csv  In Progress ... DONE!!\n",
      "Stock:  GT\\EOG(2005,2015).csv  In Progress ... DONE!!\n",
      "Stock:  GT\\ETR(2005,2015).csv  In Progress ... DONE!!\n",
      "Stock:  GT\\GOOGL(2005,2015).csv  In Progress ... DONE!!\n",
      "Stock:  GT\\HD(2003,2015).csv  In Progress ... DONE!!\n",
      "Stock:  GT\\HMPRO.bk(2005,2015).csv  In Progress ... DONE!!\n",
      "Stock:  GT\\HON(2004,2015).csv  In Progress ... DONE!!\n",
      "Stock:  GT\\HRL(2005,2015).csv  In Progress ... DONE!!\n",
      "Stock:  GT\\IBM(2005,2015).csv  In Progress ... DONE!!\n",
      "Stock:  GT\\IP(2005,2015).csv  In Progress ... DONE!!\n",
      "Stock:  GT\\IPG(2005,2015).csv  In Progress ... DONE!!\n",
      "Stock:  GT\\IRPC.bk(2008,2015).csv  In Progress ... DONE!!\n",
      "Stock:  GT\\KBANK.bk(2005,2015).csv  In Progress ... DONE!!\n",
      "Stock:  GT\\KTB.bk(2005,2015).csv  In Progress ... DONE!!\n",
      "Stock:  GT\\LH(2003,2015).csv  In Progress ... DONE!!\n",
      "Stock:  GT\\LH.bk(2005,2015).csv  In Progress ... DONE!!\n",
      "Stock:  GT\\LNT(2006,2015).csv  In Progress ... DONE!!\n",
      "Stock:  GT\\LRCX(2005,2015).csv  In Progress ... DONE!!\n",
      "Stock:  GT\\LUV(2004,2016).csv  In Progress ... DONE!!\n",
      "Stock:  GT\\MINT.bk(2006,2015).csv  In Progress ... DONE!!\n",
      "Stock:  GT\\MMM(2005,2015).csv  In Progress ... DONE!!\n",
      "Stock:  GT\\MO(2005,2015).csv  In Progress ... DONE!!\n",
      "Stock:  GT\\NFLX(2003,2015).csv  In Progress ... DONE!!\n",
      "Stock:  GT\\POOL(2005,2016).csv  In Progress ... DONE!!\n",
      "Stock:  GT\\RATCH.bk(2005,2015).csv  In Progress ... DONE!!\n",
      "Stock:  GT\\SCB.bk(2005,2015).csv  In Progress ... DONE!!\n",
      "Stock:  GT\\SCC.bk(2004,2015).csv  In Progress ... DONE!!\n",
      "Stock:  GT\\TISCO.bk(2005,2015).csv  In Progress ... DONE!!\n",
      "Stock:  GT\\TMB.bk(2005,2015).csv  In Progress ... DONE!!\n",
      "Stock:  GT\\TOP.bk(2006,2015).csv  In Progress ... DONE!!\n",
      "Stock:  GT\\TRUE.bk(2005,2015).csv  In Progress ... DONE!!\n",
      "Stock:  GT\\TU.bk(2005,2015).csv  In Progress ... DONE!!\n"
     ]
    }
   ],
   "source": [
    "paramlist= []\n",
    "allstock = []\n",
    "for name in datalist:\n",
    "    print('Stock: ',name,' In Progress ...',end=\"\")\n",
    "    paramlist = []\n",
    "    df = pd.read_csv(name)\n",
    "    for p in range(40,61):\n",
    "        df = Indicator().DMI(df,p)\n",
    "        b = df.loc[(df['plusDI']>df['minusDI'])&(df['plusDI'].shift()<df['minusDI'].shift())]['Close']\n",
    "        bd = df.loc[(df['plusDI']>df['minusDI'])&(df['plusDI'].shift()<df['minusDI'].shift())].index\n",
    "        s = df.loc[(df['plusDI'] < df['minusDI'])  & (df['plusDI'].shift()>df['minusDI'].shift())]['Close']\n",
    "        sd = df.loc[(df['plusDI'] < df['minusDI'])  & (df['plusDI'].shift()>df['minusDI'].shift())].index\n",
    "        b,bd,s,sd = b.tolist(),bd.tolist(),s.tolist(),sd.tolist()\n",
    "        money = 10000\n",
    "      \n",
    "        if bd[0]>sd[0]:\n",
    "            s.pop(0)\n",
    "            sd.pop(0)   \n",
    "        if len(b)>len(s):\n",
    "            b.pop()\n",
    "            bd.pop() \n",
    "\n",
    "        pf= []\n",
    "        profit = []\n",
    "        for i in range(len(b)):\n",
    "            pf.append((s[i]-b[i]))\n",
    "        pf = sum(pf)\n",
    "        paramlist.append([p,pf])\n",
    "    paramlist = sorted(paramlist,key=lambda l:l[1],reverse=True)\n",
    "    allstock.append([name[3:-4],paramlist[0][0]])\n",
    "    print(' DONE!!')"
   ]
  },
  {
   "cell_type": "code",
   "execution_count": 25,
   "metadata": {},
   "outputs": [
    {
     "data": {
      "text/plain": [
       "[['A(2003,2015)', 57],\n",
       " ['AAL(2006,2015)', 46],\n",
       " ['AAP(2005,2015)', 45],\n",
       " ['AAPL(2005,2015)', 50],\n",
       " ['ABC(2003,2015)', 40],\n",
       " ['ABMD(2005,2015)', 44],\n",
       " ['ABT(2005,2015)', 46],\n",
       " ['ACN(2005,2015)', 45],\n",
       " ['ADBE(2005,2015)', 42],\n",
       " ['ADI(2005,2015)', 43],\n",
       " ['ADVANC.bk(2005,2015)', 59],\n",
       " ['AEE(2005,2015)', 59],\n",
       " ['AES(2005,2015)', 40],\n",
       " ['AFL(2004,2015)', 40],\n",
       " ['AKAM(2005,2015)', 43],\n",
       " ['ALB(2003,2015)', 40],\n",
       " ['ALK(2005,2015)', 45],\n",
       " ['ALL(2005,2015)', 45],\n",
       " ['ALXN(2005,2015)', 55],\n",
       " ['AMAT(2005,2015)', 48],\n",
       " ['AMD(2005,2015)', 57],\n",
       " ['AMGN(2005,2015)', 59],\n",
       " ['AMZN(2004,2015)', 51],\n",
       " ['AON(2005,2015)', 56],\n",
       " ['AOS(2002,2015)', 43],\n",
       " ['AOT.bk(2005,2015)', 52],\n",
       " ['APD(2005,2015)', 41],\n",
       " ['ARE(2005,2015)', 46],\n",
       " ['ATO(2005,2015)', 48],\n",
       " ['ATVI(2005,2015)', 41],\n",
       " ['AVB(2003,2015)', 41],\n",
       " ['AZO(2005,2016)', 56],\n",
       " ['BBL.bk(2003,2016)', 52],\n",
       " ['BDMS.bk(2005,2015)', 43],\n",
       " ['BH.bk(2005,2015)', 57],\n",
       " ['BKR(2004,2015)', 59],\n",
       " ['BLL(2004,2015)', 57],\n",
       " ['CPALL.bk(2005,2015)', 43],\n",
       " ['CPF.bk(2005,2015)', 59],\n",
       " ['CPN.bk(2005,2015)', 50],\n",
       " ['EA(2005,2015)', 59],\n",
       " ['EBAY(2005,2016)', 42],\n",
       " ['EGCO.bk(2008,2015)', 40],\n",
       " ['EMR(2003,2015)', 43],\n",
       " ['EOG(2005,2015)', 41],\n",
       " ['ETR(2005,2015)', 40],\n",
       " ['GOOGL(2005,2015)', 42],\n",
       " ['HD(2003,2015)', 52],\n",
       " ['HMPRO.bk(2005,2015)', 45],\n",
       " ['HON(2004,2015)', 58],\n",
       " ['HRL(2005,2015)', 57],\n",
       " ['IBM(2005,2015)', 43],\n",
       " ['IP(2005,2015)', 58],\n",
       " ['IPG(2005,2015)', 49],\n",
       " ['IRPC.bk(2008,2015)', 44],\n",
       " ['KBANK.bk(2005,2015)', 49],\n",
       " ['KTB.bk(2005,2015)', 40],\n",
       " ['LH(2003,2015)', 40],\n",
       " ['LH.bk(2005,2015)', 41],\n",
       " ['LNT(2006,2015)', 42],\n",
       " ['LRCX(2005,2015)', 49],\n",
       " ['LUV(2004,2016)', 40],\n",
       " ['MINT.bk(2006,2015)', 51],\n",
       " ['MMM(2005,2015)', 43],\n",
       " ['MO(2005,2015)', 42],\n",
       " ['NFLX(2003,2015)', 59],\n",
       " ['POOL(2005,2016)', 59],\n",
       " ['RATCH.bk(2005,2015)', 49],\n",
       " ['SCB.bk(2005,2015)', 59],\n",
       " ['SCC.bk(2004,2015)', 40],\n",
       " ['TISCO.bk(2005,2015)', 46],\n",
       " ['TMB.bk(2005,2015)', 53],\n",
       " ['TOP.bk(2006,2015)', 45],\n",
       " ['TRUE.bk(2005,2015)', 58],\n",
       " ['TU.bk(2005,2015)', 59]]"
      ]
     },
     "execution_count": 25,
     "metadata": {},
     "output_type": "execute_result"
    }
   ],
   "source": [
    "allstock"
   ]
  },
  {
   "cell_type": "code",
   "execution_count": 29,
   "metadata": {},
   "outputs": [],
   "source": [
    "k = []\n",
    "for i in allstock:\n",
    "    k.append(i[1])\n",
    "\n",
    "c = Counter(k)"
   ]
  },
  {
   "cell_type": "code",
   "execution_count": 31,
   "metadata": {},
   "outputs": [
    {
     "data": {
      "text/plain": [
       "48.266666666666666"
      ]
     },
     "execution_count": 31,
     "metadata": {},
     "output_type": "execute_result"
    }
   ],
   "source": [
    "sum(k)/len(k)"
   ]
  },
  {
   "cell_type": "code",
   "execution_count": 32,
   "metadata": {},
   "outputs": [
    {
     "data": {
      "text/plain": [
       "Counter({57: 5,\n",
       "         46: 4,\n",
       "         45: 6,\n",
       "         50: 2,\n",
       "         40: 10,\n",
       "         44: 2,\n",
       "         42: 5,\n",
       "         43: 8,\n",
       "         59: 10,\n",
       "         55: 1,\n",
       "         48: 2,\n",
       "         51: 2,\n",
       "         56: 2,\n",
       "         52: 3,\n",
       "         41: 5,\n",
       "         58: 3,\n",
       "         49: 4,\n",
       "         53: 1})"
      ]
     },
     "execution_count": 32,
     "metadata": {},
     "output_type": "execute_result"
    }
   ],
   "source": [
    "c"
   ]
  },
  {
   "cell_type": "code",
   "execution_count": null,
   "metadata": {},
   "outputs": [],
   "source": []
  }
 ],
 "metadata": {
  "kernelspec": {
   "display_name": "Python 3",
   "language": "python",
   "name": "python3"
  },
  "language_info": {
   "codemirror_mode": {
    "name": "ipython",
    "version": 3
   },
   "file_extension": ".py",
   "mimetype": "text/x-python",
   "name": "python",
   "nbconvert_exporter": "python",
   "pygments_lexer": "ipython3",
   "version": "3.7.7"
  }
 },
 "nbformat": 4,
 "nbformat_minor": 4
}
